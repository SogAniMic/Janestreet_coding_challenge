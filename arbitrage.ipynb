{
 "cells": [
  {
   "cell_type": "markdown",
   "id": "de20c6b5",
   "metadata": {},
   "source": [
    "#  Suppose you are given a table of currency exchange rates, represented as a 2D array. Determine whether there is a possible arbitrage: that is, whether there is some sequence of trades you can make, starting with some amount A of any currency, so that you can end up with some amount greater than A of that currency.\n",
    "\n",
    "There are no transaction costs and you can trade fractional quantities."
   ]
  },
  {
   "cell_type": "code",
   "execution_count": null,
   "id": "c4d11796",
   "metadata": {},
   "outputs": [],
   "source": [
    "from math import log\n",
    "\n",
    "def arbitrage(table):\n",
    "    transformed_graph = [[-log(edge) for edge in row] for row in graph]\n",
    "\n",
    "    # Pick any source vertex -- we can run Bellman-Ford from any vertex and\n",
    "    # get the right result\n",
    "    source = 0\n",
    "    n = len(transformed_graph)\n",
    "    min_dist = [float('inf')] * n\n",
    "\n",
    "    min_dist[source] = 0\n",
    "\n",
    "    # Relax edges |V - 1| times\n",
    "    for i in range(n - 1):\n",
    "        for v in range(n):\n",
    "            for w in range(n):\n",
    "                if min_dist[w] > min_dist[v] + transformed_graph[v][w]:\n",
    "                    min_dist[w] = min_dist[v] + transformed_graph[v][w]\n",
    "\n",
    "    # If we can still relax edges, then we have a negative cycle\n",
    "    for v in range(n):\n",
    "        for w in range(n):\n",
    "            if min_dist[w] > min_dist[v] + transformed_graph[v][w]:\n",
    "                return True\n",
    "\n",
    "    return False"
   ]
  }
 ],
 "metadata": {
  "kernelspec": {
   "display_name": "Python 3 (ipykernel)",
   "language": "python",
   "name": "python3"
  },
  "language_info": {
   "codemirror_mode": {
    "name": "ipython",
    "version": 3
   },
   "file_extension": ".py",
   "mimetype": "text/x-python",
   "name": "python",
   "nbconvert_exporter": "python",
   "pygments_lexer": "ipython3",
   "version": "3.9.13"
  }
 },
 "nbformat": 4,
 "nbformat_minor": 5
}
